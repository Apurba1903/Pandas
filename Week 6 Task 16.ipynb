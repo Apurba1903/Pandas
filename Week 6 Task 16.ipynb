{
  "cells": [
    {
      "cell_type": "code",
      "execution_count": 1,
      "metadata": {},
      "outputs": [],
      "source": [
        "import pandas as pd"
      ]
    },
    {
      "cell_type": "markdown",
      "metadata": {
        "id": "MetYTZJpYfdz"
      },
      "source": [
        "###`Q-1:` Write a program to create an empty series."
      ]
    },
    {
      "cell_type": "code",
      "execution_count": null,
      "metadata": {
        "id": "KUcgT935YgC5"
      },
      "outputs": [
        {
          "data": {
            "text/plain": [
              "Series([], dtype: object)"
            ]
          },
          "execution_count": 2,
          "metadata": {},
          "output_type": "execute_result"
        }
      ],
      "source": [
        "# Code Here\n",
        "\n",
        "pd.Series()"
      ]
    },
    {
      "cell_type": "markdown",
      "metadata": {
        "id": "jw5ybzU6YhOo"
      },
      "source": [
        "###`Q-2:` Write a Pandas program to add, subtract, multiple and divide two Pandas Series."
      ]
    },
    {
      "cell_type": "code",
      "execution_count": null,
      "metadata": {
        "id": "EF3GgVFjYjwG"
      },
      "outputs": [
        {
          "name": "stdout",
          "output_type": "stream",
          "text": [
            "0     7\n",
            "1    10\n",
            "2     9\n",
            "3     9\n",
            "4     8\n",
            "dtype: int64\n",
            "\n",
            "\n",
            "0   -3\n",
            "1   -2\n",
            "2    1\n",
            "3    3\n",
            "4    6\n",
            "dtype: int64\n",
            "\n",
            "\n",
            "0    10\n",
            "1    24\n",
            "2    20\n",
            "3    18\n",
            "4     7\n",
            "dtype: int64\n",
            "\n",
            "\n",
            "0    0.400000\n",
            "1    0.666667\n",
            "2    1.250000\n",
            "3    2.000000\n",
            "4    7.000000\n",
            "dtype: float64\n"
          ]
        }
      ],
      "source": [
        "# Code Here\n",
        "\n",
        "a = pd.Series([2,4,5,6,7])\n",
        "b = pd.Series([5,6,4,3,1])\n",
        "\n",
        "print(a+b)\n",
        "print('\\n')\n",
        "print(a-b)\n",
        "print('\\n')\n",
        "print(a*b)\n",
        "print('\\n')\n",
        "print(a/b)"
      ]
    },
    {
      "cell_type": "markdown",
      "metadata": {
        "id": "TZDp25jeYlB6"
      },
      "source": [
        "###`Q-3` Write a Pandas program to compare the elements of the two Pandas Series.\n",
        "Sample Series: [2, 4, 6, 8, 10], [1, 3, 5, 7, 10]\n",
        "\n"
      ]
    },
    {
      "cell_type": "code",
      "execution_count": null,
      "metadata": {
        "id": "gFNil8ruYp1y"
      },
      "outputs": [
        {
          "name": "stdout",
          "output_type": "stream",
          "text": [
            "0    False\n",
            "1    False\n",
            "2    False\n",
            "3    False\n",
            "4    False\n",
            "dtype: bool\n",
            "0    False\n",
            "1    False\n",
            "2     True\n",
            "3     True\n",
            "4     True\n",
            "dtype: bool\n",
            "0     True\n",
            "1     True\n",
            "2    False\n",
            "3    False\n",
            "4    False\n",
            "dtype: bool\n"
          ]
        }
      ],
      "source": [
        "# Code Here\n",
        "\n",
        "a = pd.Series([2,4,5,6,7])\n",
        "b = pd.Series([5,6,4,3,1])\n",
        "\n",
        "print(a==b)\n",
        "print(a>b)\n",
        "print(a<b)"
      ]
    },
    {
      "cell_type": "markdown",
      "metadata": {
        "id": "HlOBn_N6YrZz"
      },
      "source": [
        "###`Q-5.`Write a function to change the data type of given a column or a Series. Function takes series and data type as input, returns the converted series.\n",
        "```\n",
        "series = pd.Series([1,2,'Python', 2.0, True, 100])\n",
        "change to float type data\n",
        "```\n",
        "Note: Read about pd.to_numeric()"
      ]
    },
    {
      "cell_type": "code",
      "execution_count": null,
      "metadata": {
        "id": "_SWQJCUJYwXm"
      },
      "outputs": [
        {
          "data": {
            "text/plain": [
              "0      1.0\n",
              "1      2.0\n",
              "2      NaN\n",
              "3      2.0\n",
              "4      1.0\n",
              "5    100.0\n",
              "dtype: float64"
            ]
          },
          "execution_count": 9,
          "metadata": {},
          "output_type": "execute_result"
        }
      ],
      "source": [
        "# Code Here\n",
        "\n",
        "\n",
        "def change_dtype(series):\n",
        "    return pd.to_numeric(series, errors='coerce')\n",
        "\n",
        "\n",
        "\n",
        "series = pd.Series([1,2,'Python', 2.0, True, 100])\n",
        "change_dtype(series)\n"
      ]
    },
    {
      "cell_type": "markdown",
      "metadata": {
        "id": "PGp3OqRIY0Va"
      },
      "source": [
        "Download data - https://drive.google.com/file/d/1LRhXwbEodeWXtzPhJCX0X9Lf_BECzvqb/view?usp=share_link\n",
        "All Batsman runs series in IPL 2008 to 2022.\n",
        "\n",
        "Below questions are based on this data."
      ]
    },
    {
      "cell_type": "code",
      "execution_count": 10,
      "metadata": {},
      "outputs": [],
      "source": [
        "data =  pd.read_csv('batsman_runs_series.csv')"
      ]
    },
    {
      "cell_type": "markdown",
      "metadata": {
        "id": "TxFkp-L4Y23d"
      },
      "source": [
        "###`Q-6` Find top 10 most run getter from the series."
      ]
    },
    {
      "cell_type": "code",
      "execution_count": 14,
      "metadata": {
        "id": "muBgocA6Y2Bg"
      },
      "outputs": [
        {
          "data": {
            "text/html": [
              "<div>\n",
              "<style scoped>\n",
              "    .dataframe tbody tr th:only-of-type {\n",
              "        vertical-align: middle;\n",
              "    }\n",
              "\n",
              "    .dataframe tbody tr th {\n",
              "        vertical-align: top;\n",
              "    }\n",
              "\n",
              "    .dataframe thead th {\n",
              "        text-align: right;\n",
              "    }\n",
              "</style>\n",
              "<table border=\"1\" class=\"dataframe\">\n",
              "  <thead>\n",
              "    <tr style=\"text-align: right;\">\n",
              "      <th></th>\n",
              "      <th>batter</th>\n",
              "      <th>batsman_run</th>\n",
              "    </tr>\n",
              "  </thead>\n",
              "  <tbody>\n",
              "    <tr>\n",
              "      <th>569</th>\n",
              "      <td>V Kohli</td>\n",
              "      <td>6634</td>\n",
              "    </tr>\n",
              "    <tr>\n",
              "      <th>462</th>\n",
              "      <td>S Dhawan</td>\n",
              "      <td>6244</td>\n",
              "    </tr>\n",
              "    <tr>\n",
              "      <th>130</th>\n",
              "      <td>DA Warner</td>\n",
              "      <td>5883</td>\n",
              "    </tr>\n",
              "    <tr>\n",
              "      <th>430</th>\n",
              "      <td>RG Sharma</td>\n",
              "      <td>5881</td>\n",
              "    </tr>\n",
              "    <tr>\n",
              "      <th>493</th>\n",
              "      <td>SK Raina</td>\n",
              "      <td>5536</td>\n",
              "    </tr>\n",
              "    <tr>\n",
              "      <th>27</th>\n",
              "      <td>AB de Villiers</td>\n",
              "      <td>5181</td>\n",
              "    </tr>\n",
              "    <tr>\n",
              "      <th>108</th>\n",
              "      <td>CH Gayle</td>\n",
              "      <td>4997</td>\n",
              "    </tr>\n",
              "    <tr>\n",
              "      <th>339</th>\n",
              "      <td>MS Dhoni</td>\n",
              "      <td>4978</td>\n",
              "    </tr>\n",
              "    <tr>\n",
              "      <th>452</th>\n",
              "      <td>RV Uthappa</td>\n",
              "      <td>4954</td>\n",
              "    </tr>\n",
              "    <tr>\n",
              "      <th>256</th>\n",
              "      <td>KD Karthik</td>\n",
              "      <td>4377</td>\n",
              "    </tr>\n",
              "  </tbody>\n",
              "</table>\n",
              "</div>"
            ],
            "text/plain": [
              "             batter  batsman_run\n",
              "569         V Kohli         6634\n",
              "462        S Dhawan         6244\n",
              "130       DA Warner         5883\n",
              "430       RG Sharma         5881\n",
              "493        SK Raina         5536\n",
              "27   AB de Villiers         5181\n",
              "108        CH Gayle         4997\n",
              "339        MS Dhoni         4978\n",
              "452      RV Uthappa         4954\n",
              "256      KD Karthik         4377"
            ]
          },
          "execution_count": 14,
          "metadata": {},
          "output_type": "execute_result"
        }
      ],
      "source": [
        "# Code Here\n",
        "\n",
        "data.sort_values('batsman_run', ascending= False).head(10)"
      ]
    },
    {
      "cell_type": "markdown",
      "metadata": {
        "id": "GzlCFBM_Y83g"
      },
      "source": [
        "###`Q-7` No of players having runs above 3000"
      ]
    },
    {
      "cell_type": "code",
      "execution_count": 19,
      "metadata": {
        "id": "JdNchHRWY1B-"
      },
      "outputs": [
        {
          "data": {
            "text/plain": [
              "20"
            ]
          },
          "execution_count": 19,
          "metadata": {},
          "output_type": "execute_result"
        }
      ],
      "source": [
        "# Code Here\n",
        "\n",
        "data[data['batsman_run'] > 3000].shape[0]"
      ]
    },
    {
      "cell_type": "markdown",
      "metadata": {
        "id": "pMBEoCL1Y-vh"
      },
      "source": [
        "###`Q-8` No of players having runs above mean value?"
      ]
    },
    {
      "cell_type": "code",
      "execution_count": 22,
      "metadata": {
        "id": "LgtViVFZZBIu"
      },
      "outputs": [
        {
          "data": {
            "text/plain": [
              "128"
            ]
          },
          "execution_count": 22,
          "metadata": {},
          "output_type": "execute_result"
        }
      ],
      "source": [
        "# Code Here\n",
        "\n",
        "data[data['batsman_run'] > data['batsman_run'].mean()].shape[0]"
      ]
    },
    {
      "cell_type": "markdown",
      "metadata": {
        "id": "OAB1CgdgZEqE"
      },
      "source": [
        "Download data - https://drive.google.com/file/d/1QZuZ5bypUInfVvarHACLAi8tXXHvb8xd/view?usp=share_link\n",
        "\n",
        "file name - items.csv\n",
        "\n"
      ]
    },
    {
      "cell_type": "markdown",
      "metadata": {
        "id": "1UTQQImxZGLu"
      },
      "source": [
        "###`Q-9`\n",
        "    i. Read `items.csv` making `item_name` as index.\n",
        "    ii. Show no of nan values\n",
        "    ii. Item price is given in $, so convert it to rupees without currency symbol.\n",
        "    iii. Make data type of newly made series as float.\n",
        "    iv. Fill nan with mean of the series\n",
        "\n",
        "\n",
        "How csv file looks\n",
        "\n",
        "```\n",
        "item_name\titem_price\n",
        "Chips and Fresh Tomato Salsa\t$2.39\n",
        "Izze\t$3.39\n",
        "Nantucket Nectar\t$3.39\n",
        "Chips and Tomatillo-Green Chili Salsa\t$2.39\n",
        "Chicken Bowl\t$16.98\n",
        "\n",
        "```"
      ]
    },
    {
      "cell_type": "code",
      "execution_count": null,
      "metadata": {
        "id": "1xaWkoMJZFNK"
      },
      "outputs": [
        {
          "data": {
            "text/plain": [
              "item_name\n",
              "Chips and Fresh Tomato Salsa              $2.39 \n",
              "Izze                                      $3.39 \n",
              "Nantucket Nectar                          $3.39 \n",
              "Chips and Tomatillo-Green Chili Salsa     $2.39 \n",
              "Chicken Bowl                             $16.98 \n",
              "                                          ...   \n",
              "Steak Burrito                            $11.75 \n",
              "Steak Burrito                            $11.75 \n",
              "Chicken Salad Bowl                       $11.25 \n",
              "Chicken Salad Bowl                        $8.75 \n",
              "Chicken Salad Bowl                        $8.75 \n",
              "Name: item_price, Length: 4622, dtype: object"
            ]
          },
          "execution_count": 25,
          "metadata": {},
          "output_type": "execute_result"
        }
      ],
      "source": [
        "# Code Here\n",
        "\n",
        "\n",
        "#1\n",
        "\n",
        "items = pd.read_csv('items.csv', index_col= ['item_name']).squeeze('columns')\n",
        "items"
      ]
    },
    {
      "cell_type": "code",
      "execution_count": null,
      "metadata": {},
      "outputs": [
        {
          "data": {
            "text/plain": [
              "np.int64(50)"
            ]
          },
          "execution_count": 27,
          "metadata": {},
          "output_type": "execute_result"
        }
      ],
      "source": [
        "#2\n",
        "\n",
        "items.isna().sum()"
      ]
    },
    {
      "cell_type": "code",
      "execution_count": null,
      "metadata": {},
      "outputs": [
        {
          "data": {
            "text/plain": [
              "item_name\n",
              "Chips and Fresh Tomato Salsa              290.2894\n",
              "Izze                                      411.7494\n",
              "Nantucket Nectar                          411.7494\n",
              "Chips and Tomatillo-Green Chili Salsa     290.2894\n",
              "Chicken Bowl                             2062.3908\n",
              "                                           ...    \n",
              "Steak Burrito                            1427.1550\n",
              "Steak Burrito                            1427.1550\n",
              "Chicken Salad Bowl                       1366.4250\n",
              "Chicken Salad Bowl                       1062.7750\n",
              "Chicken Salad Bowl                       1062.7750\n",
              "Name: item_price, Length: 4622, dtype: float64"
            ]
          },
          "execution_count": 28,
          "metadata": {},
          "output_type": "execute_result"
        }
      ],
      "source": [
        "#2\n",
        "\n",
        "def taka(x):\n",
        "    try:\n",
        "        y = x[1:]\n",
        "        \n",
        "    except:\n",
        "        y = x\n",
        "        \n",
        "    return float(y)*121.46\n",
        "    \n",
        "    \n",
        "    \n",
        "items.apply(taka)"
      ]
    },
    {
      "cell_type": "code",
      "execution_count": null,
      "metadata": {},
      "outputs": [],
      "source": [
        "#3\n",
        "\n",
        "items = items.apply(taka)"
      ]
    },
    {
      "cell_type": "code",
      "execution_count": 31,
      "metadata": {},
      "outputs": [
        {
          "data": {
            "text/plain": [
              "item_name\n",
              "Chips and Fresh Tomato Salsa              290.2894\n",
              "Izze                                      411.7494\n",
              "Nantucket Nectar                          411.7494\n",
              "Chips and Tomatillo-Green Chili Salsa     290.2894\n",
              "Chicken Bowl                             2062.3908\n",
              "                                           ...    \n",
              "Steak Burrito                            1427.1550\n",
              "Steak Burrito                            1427.1550\n",
              "Chicken Salad Bowl                       1366.4250\n",
              "Chicken Salad Bowl                       1062.7750\n",
              "Chicken Salad Bowl                       1062.7750\n",
              "Name: item_price, Length: 4622, dtype: float64"
            ]
          },
          "execution_count": 31,
          "metadata": {},
          "output_type": "execute_result"
        }
      ],
      "source": [
        "#4\n",
        "\n",
        "items.fillna(items.mean())"
      ]
    },
    {
      "cell_type": "markdown",
      "metadata": {
        "id": "UHc_4e9cZK8r"
      },
      "source": [
        "###`Q-10`:\n",
        "    i. Find mean price\n",
        "    ii. Find 30th and 6th percentile value\n",
        "    iii. Plot Histogram on price with bin size 50\n",
        "    iv. No of items price lies between [1000 to 2000]\n",
        "\n"
      ]
    },
    {
      "cell_type": "code",
      "execution_count": null,
      "metadata": {
        "id": "Eh3xX9FpZNmE"
      },
      "outputs": [
        {
          "data": {
            "text/plain": [
              "np.float64(906.4598055118109)"
            ]
          },
          "execution_count": 33,
          "metadata": {},
          "output_type": "execute_result"
        }
      ],
      "source": [
        "# Code Here\n",
        "\n",
        "\n",
        "#1\n",
        "\n",
        "items.mean()"
      ]
    },
    {
      "cell_type": "code",
      "execution_count": 35,
      "metadata": {},
      "outputs": [
        {
          "name": "stdout",
          "output_type": "stream",
          "text": [
            "540.497\n",
            "151.825\n"
          ]
        }
      ],
      "source": [
        "#2\n",
        "\n",
        "print(items.quantile(q = 0.3))\n",
        "print(items.quantile(q = 0.06))"
      ]
    },
    {
      "cell_type": "code",
      "execution_count": 36,
      "metadata": {},
      "outputs": [
        {
          "data": {
            "text/plain": [
              "<Axes: ylabel='Frequency'>"
            ]
          },
          "execution_count": 36,
          "metadata": {},
          "output_type": "execute_result"
        },
        {
          "data": {
            "image/png": "[encoded data removed]",
            "text/plain": [
              "<Figure size 640x480 with 1 Axes>"
            ]
          },
          "metadata": {},
          "output_type": "display_data"
        }
      ],
      "source": [
        "#3\n",
        "\n",
        "items.plot.hist(bins=50)"
      ]
    },
    {
      "cell_type": "code",
      "execution_count": 40,
      "metadata": {},
      "outputs": [
        {
          "data": {
            "text/plain": [
              "item_name\n",
              "Chicken Bowl            1333.6308\n",
              "Steak Burrito           1427.1550\n",
              "Steak Burrito           1123.5050\n",
              "Chicken Crispy Tacos    1062.7750\n",
              "Chicken Soft Tacos      1062.7750\n",
              "                          ...    \n",
              "Steak Burrito           1427.1550\n",
              "Steak Burrito           1427.1550\n",
              "Chicken Salad Bowl      1366.4250\n",
              "Chicken Salad Bowl      1062.7750\n",
              "Chicken Salad Bowl      1062.7750\n",
              "Name: item_price, Length: 2721, dtype: float64"
            ]
          },
          "execution_count": 40,
          "metadata": {},
          "output_type": "execute_result"
        }
      ],
      "source": [
        "#4\n",
        "\n",
        "items[(items>1000) & (items<2000)]"
      ]
    }
  ],
  "metadata": {
    "colab": {
      "provenance": []
    },
    "kernelspec": {
      "display_name": "Python 3",
      "name": "python3"
    },
    "language_info": {
      "codemirror_mode": {
        "name": "ipython",
        "version": 3
      },
      "file_extension": ".py",
      "mimetype": "text/x-python",
      "name": "python",
      "nbconvert_exporter": "python",
      "pygments_lexer": "ipython3",
      "version": "3.11.9"
    }
  },
  "nbformat": 4,
  "nbformat_minor": 0
}
