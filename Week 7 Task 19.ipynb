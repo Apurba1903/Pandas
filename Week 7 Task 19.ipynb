{
 "cells": [
  {
   "cell_type": "markdown",
   "metadata": {
    "id": "mGBzdavGOUdP"
   },
   "source": [
    "## **Questions based on Titanic Dataset:**\n",
    "\n",
    "To read the dataset as csv, use the below code:\n",
    "\n",
    "```python\n",
    "import pandas as pd\n",
    "\n",
    "url = \"https://docs.google.com/spreadsheets/d/e/2PACX-1vQjh5HzZ1N0SU7ME9ZQRzeVTaXaGsV97rU8R7eAcg53k27GTstJp9cRUOfr55go1GRRvTz1NwvyOnuh/pub?gid=1562145139&single=true&output=csv\"\n",
    "titanic_df = pd.read_csv(url)\n",
    "```"
   ]
  },
  {
   "cell_type": "markdown",
   "metadata": {
    "id": "HsmRWKRoOa0-"
   },
   "source": [
    "### `Q-1:` Using `groupby` make groups using the `\"Pclass\"` column and find out the average age and total number of missing values in the `\"Age\"` column for every group."
   ]
  },
  {
   "cell_type": "code",
   "execution_count": 36,
   "metadata": {
    "id": "OdPLAvd4OVS6"
   },
   "outputs": [
    {
     "name": "stdout",
     "output_type": "stream",
     "text": [
      "Pclass 1 : Avg Age 38.233440860215055 and total missing values 30\n",
      "Pclass 2 : Avg Age 29.87763005780347 and total missing values 11\n",
      "Pclass 3 : Avg Age 25.14061971830986 and total missing values 136\n"
     ]
    }
   ],
   "source": [
    "# Code Here\n",
    "\n",
    "import pandas as pd\n",
    "import numpy as np\n",
    "\n",
    "url = \"https://docs.google.com/spreadsheets/d/e/2PACX-1vQjh5HzZ1N0SU7ME9ZQRzeVTaXaGsV97rU8R7eAcg53k27GTstJp9cRUOfr55go1GRRvTz1NwvyOnuh/pub?gid=1562145139&single=true&output=csv\"\n",
    "titanic_df = pd.read_csv(url)\n",
    "\n",
    "pclass_groups =  titanic_df.groupby('Pclass')\n",
    "\n",
    "for group in list(pclass_groups.groups.keys()):\n",
    "    print(f\"Pclass {group} : Avg Age {pclass_groups.get_group(group)['Age'].mean()} and total missing values {pclass_groups.get_group(group)['Age'].isna().sum()}\")"
   ]
  },
  {
   "cell_type": "markdown",
   "metadata": {
    "id": "CGBHGvCMOctq"
   },
   "source": [
    "### `Q-2:` Using `groupby` make groups using the `\"Pclass\"` column and fill every group's `\"Embarked\"` column's missing values with the mode value of that group. After that, print every group's `\"Embarked\"` column's value counts in ascending order."
   ]
  },
  {
   "cell_type": "code",
   "execution_count": 6,
   "metadata": {
    "id": "eOMciiM_OfPU"
   },
   "outputs": [
    {
     "name": "stdout",
     "output_type": "stream",
     "text": [
      "Embarked\n",
      "Q      2\n",
      "C     85\n",
      "S    127\n",
      "Name: count, dtype: int64\n",
      "Embarked\n",
      "Q      3\n",
      "C     17\n",
      "S    164\n",
      "Name: count, dtype: int64\n",
      "Embarked\n",
      "C     66\n",
      "Q     72\n",
      "S    353\n",
      "Name: count, dtype: int64\n"
     ]
    }
   ],
   "source": [
    "# Code Here\n",
    "\n",
    "for group in list(pclass_groups.groups.keys()):\n",
    "    mode = pclass_groups.get_group(group)['Embarked'].mode()\n",
    "    pclass_groups.get_group(group)['Embarked'].fillna(mode)\n",
    "    print(pclass_groups.get_group(group)['Embarked'].value_counts(ascending=True))\n",
    "    "
   ]
  },
  {
   "cell_type": "markdown",
   "metadata": {
    "id": "3B4ieUtTOg2E"
   },
   "source": [
    "### `Q-3:` Make groups based on `\"Embarked\"` column. And for each of this embarked group, make another group based on `\"Pclass\"` and find out the average fare (round off up to 2 decimal places) for each \"Pclass\" for each group of \"Embarked\".\n",
    "\n",
    "**Sample Output:**\n",
    "\n",
    "```bash\n",
    "{'C': {1: 105, 2: 25, 3: 11},\n",
    " 'Q': {1: 90, 2: 12, 3: 11},\n",
    " 'S': {1: 70, 2: 20, 3: 15}}\n",
    "```"
   ]
  },
  {
   "cell_type": "code",
   "execution_count": 14,
   "metadata": {
    "id": "rQvGcpCLOjEk"
   },
   "outputs": [
    {
     "data": {
      "text/plain": [
       "{'C': {1: np.float64(104.72), 2: np.float64(25.36), 3: np.float64(11.21)},\n",
       " 'Q': {1: np.float64(90.0), 2: np.float64(12.35), 3: np.float64(11.18)},\n",
       " 'S': {1: np.float64(70.36), 2: np.float64(20.33), 3: np.float64(14.64)}}"
      ]
     },
     "execution_count": 14,
     "metadata": {},
     "output_type": "execute_result"
    }
   ],
   "source": [
    "# Code Here\n",
    "\n",
    "my_dict = {}\n",
    "\n",
    "embarked_groups = titanic_df.groupby('Embarked')\n",
    "\n",
    "for embarked_group in list(embarked_groups.groups.keys()):\n",
    "    pclass_groups = embarked_groups.get_group(embarked_group).groupby('Pclass')\n",
    "    my_dict[embarked_group] = {}\n",
    "    \n",
    "    for pclass_group in list(pclass_groups.groups.keys()):\n",
    "        my_dict[embarked_group][pclass_group] = round(pclass_groups.get_group(pclass_group)['Fare'].mean(), 2)\n",
    "    \n",
    "my_dict"
   ]
  },
  {
   "cell_type": "markdown",
   "metadata": {
    "id": "iS6vHZUIOnJy"
   },
   "source": [
    "## **Questions Based on Fifa Worldcup - 2022 Dataset:**\n",
    "\n",
    "You can read the dataset by using the below sample code\n",
    "\n",
    "```python\n",
    "import pandas as pd\n",
    "\n",
    "fifa_df = pd.read_csv(\"https://docs.google.com/spreadsheets/d/e/2PACX-1vT3D_x_4DS6d51LKJ7ze1sxT5WpV5uiSVOFYHLwBiGru6vFyVv5h5-83AwFjxWYiWfCDjDAaarHAV-k/pub?gid=0&single=true&output=csv\")\n",
    "```"
   ]
  },
  {
   "cell_type": "markdown",
   "metadata": {
    "id": "3GPZOvh5Oqhp"
   },
   "source": [
    "### `Q-4:` Perform `groupby` based on the `\"Team\"` column and then perform Z Normalization on top of the below columns of each group:\n",
    "1. Passes\n",
    "2. Passes Completed\n",
    "3. Attempted Line Breaks\n",
    "4. Completed Line Breaks\n",
    "\n",
    "You have to make a python function named `z_normalization` which takes two arguments:\n",
    "\n",
    "1. *group:* Every group that you have created\n",
    "2. *cols_to_perform:* This parameter takes a list of columns on which you have to perform the Z-Normalization.\n",
    "\n",
    "For this problem, you have to use th `apply()` method.\n",
    "\n",
    "$\\Large Z \\ - \\ Normalization = \\frac{X_i - \\mu}{std} $\n",
    "\n",
    "After that find out the below values for each group:\n",
    "- minimum \"Passess\"\n",
    "- maximum \"Passess\"\n",
    "- minimum \"Yellow Cards\"\n",
    "- maximum \"Yellow cards\"\n",
    "- average \"Yellow Cards\"\n",
    "- maximum \"Attempted Line Breaks\"\n",
    "- minimum \"Attempted Line Breaks\"\n",
    "- standardard deviation of \"Attempted Line Breaks\"\n",
    "- average Possession"
   ]
  },
  {
   "cell_type": "code",
   "execution_count": null,
   "metadata": {
    "id": "OuGLcl3EOnxY"
   },
   "outputs": [
    {
     "name": "stdout",
     "output_type": "stream",
     "text": [
      "               Passes       Yellow Cards               Attempted Line Breaks  \\\n",
      "                  min   max          min max      mean                   min   \n",
      "Team                                                                           \n",
      "Argentina         408   862            0   8  2.285714                   141   \n",
      "Australia         286   466            0   3  1.750000                   133   \n",
      "Belgium           512   685            1   3  1.666667                   167   \n",
      "Brazil            548   695            0   3  1.200000                   164   \n",
      "Cameroon          295   500            1   5  2.666667                   144   \n",
      "Canada            448   536            2   4  2.666667                   102   \n",
      "Costa Rica        231   454            1   3  2.000000                    86   \n",
      "Croatia           461   724            0   2  1.142857                    97   \n",
      "Denmark           537   650            1   2  1.666667                   173   \n",
      "Ecuador           429   484            0   2  1.000000                   143   \n",
      "England           508   810            0   1  0.200000                   133   \n",
      "France            358   734            0   3  1.142857                   126   \n",
      "Germany           352   827            0   3  1.000000                   143   \n",
      "Ghana             319   460            2   4  2.666667                   122   \n",
      "Iran              232   463            2   3  2.333333                    56   \n",
      "Japan             225   591            0   3  1.500000                   104   \n",
      "Korea Republic    359   548            1   2  1.500000                   139   \n",
      "Mexico            356   500            1   4  2.333333                   127   \n",
      "Morocco           229   583            0   3  1.285714                   128   \n",
      "Netherlands       403   786            0   4  1.800000                   168   \n",
      "Poland            303   466            1   3  1.750000                    79   \n",
      "Portugal          461   678            0   3  1.200000                   165   \n",
      "Qatar             424   457            0   4  2.333333                   159   \n",
      "Saudi Arabia      267   560            2   6  4.666667                   147   \n",
      "Senegal           277   511            1   3  1.750000                   143   \n",
      "Serbia            403   513            2   7  4.000000                   140   \n",
      "Spain             647  1070            0   1  0.500000                   186   \n",
      "Switzerland       403   512            1   4  2.250000                   157   \n",
      "Tunisia           328   501            1   3  1.666667                   153   \n",
      "United States     427   572            0   4  1.250000                   143   \n",
      "Uruguay           390   528            1   3  2.000000                   146   \n",
      "Wales             325   508            1   2  1.666667                   104   \n",
      "\n",
      "                               Possession (%)  \n",
      "                max        std           mean  \n",
      "Team                                           \n",
      "Argentina       249  38.774685      49.285714  \n",
      "Australia       171  17.682383      31.250000  \n",
      "Belgium         195  14.422205      49.000000  \n",
      "Brazil          193  10.691118      50.400000  \n",
      "Cameroon        182  19.857828      38.333333  \n",
      "Canada          176  37.753587      44.333333  \n",
      "Costa Rica      154  38.974351      27.333333  \n",
      "Croatia         259  54.499891      47.428571  \n",
      "Denmark         241  34.000000      51.333333  \n",
      "Ecuador         177  17.009801      42.666667  \n",
      "England         208  29.676590      57.200000  \n",
      "France          179  21.407609      44.857143  \n",
      "Germany         256  56.624494      53.000000  \n",
      "Ghana           188  33.020196      37.000000  \n",
      "Iran            195  77.526340      31.666667  \n",
      "Japan           253  64.048810      30.250000  \n",
      "Korea Republic  201  27.072434      42.250000  \n",
      "Mexico          198  40.706265      46.666667  \n",
      "Morocco         157  10.641339      34.285714  \n",
      "Netherlands     198  12.759310      44.000000  \n",
      "Poland          156  36.326070      32.000000  \n",
      "Portugal        197  13.049904      53.800000  \n",
      "Qatar           174   7.767453      39.333333  \n",
      "Saudi Arabia    205  29.022979      36.666667  \n",
      "Senegal         184  16.938615      38.500000  \n",
      "Serbia          184  22.188586      42.666667  \n",
      "Spain           237  24.289916      67.000000  \n",
      "Switzerland     178   9.032349      43.000000  \n",
      "Tunisia         200  24.419937      38.666667  \n",
      "United States   204  27.693260      47.000000  \n",
      "Uruguay         186  22.030282      41.000000  \n",
      "Wales           208  53.028294      41.000000  \n"
     ]
    },
    {
     "name": "stderr",
     "output_type": "stream",
     "text": [
      "C:\\Users\\ACER\\AppData\\Local\\Temp\\ipykernel_15544\\756844249.py:22: DeprecationWarning: DataFrameGroupBy.apply operated on the grouping columns. This behavior is deprecated, and in a future version of pandas the grouping columns will be excluded from the operation. Either pass `include_groups=False` to exclude the groupings or explicitly select the grouping columns after groupby to silence this warning.\n",
      "  .apply(z_normalization, cols_to_perform=cols_to_perform)\n"
     ]
    }
   ],
   "source": [
    "# Code Here\n",
    "\n",
    "fifa_df = pd.read_csv(\"https://docs.google.com/spreadsheets/d/e/2PACX-1vT3D_x_4DS6d51LKJ7ze1sxT5WpV5uiSVOFYHLwBiGru6vFyVv5h5-83AwFjxWYiWfCDjDAaarHAV-k/pub?gid=0&single=true&output=csv\")\n",
    "\n",
    "\n",
    "def z_normalization(group, cols_to_perform):\n",
    "    for col in cols_to_perform:\n",
    "        std = group[col].std()\n",
    "        mean = group[col].mean()\n",
    "        group[f\"{col}_z_norm\"] = (group[col] - mean) / std\n",
    "\n",
    "        \n",
    "    return group\n",
    "\n",
    "\n",
    "cols_to_perform = [\"Passes\", \"Passes Completed\", \"Attempted Line Breaks\", \"Completed Line Breaks\"]\n",
    "\n",
    "result = (fifa_df.groupby(\"Team\", group_keys=False)\n",
    "            .apply(z_normalization, cols_to_perform=cols_to_perform)\n",
    "            .groupby(\"Team\")\n",
    "            .agg({\n",
    "                'Passes': ['min', 'max'],\n",
    "                'Yellow Cards': ['min', 'max', 'mean'],\n",
    "                'Attempted Line Breaks': ['min', 'max', 'std'],\n",
    "                'Possession (%)': 'mean'\n",
    "            }))\n",
    "\n",
    "print(result)"
   ]
  },
  {
   "cell_type": "markdown",
   "metadata": {
    "id": "RPjqA-OtOxDD"
   },
   "source": [
    "## **Questions on IPL wala dataset**\n",
    "\n",
    "ball by ball dataset - https://drive.google.com/file/d/1-kvv_9KCSAFWcrhS9WgTxSrURkRh6GNt/view?usp=share_link\n",
    "\n",
    "\n",
    "\n"
   ]
  },
  {
   "cell_type": "markdown",
   "metadata": {
    "id": "IeQpV8A2O0IR"
   },
   "source": [
    "### `Q-5:` Find batsman in below category-\n",
    "* Highest score while chasing\n",
    "* Best Strike rate while chasing and have faced 100+ balls\n",
    "\n",
    "\n",
    "> Chasing mean team batting in second inning"
   ]
  },
  {
   "cell_type": "code",
   "execution_count": null,
   "metadata": {
    "id": "nwa-adpMOxl4"
   },
   "outputs": [
    {
     "data": {
      "text/plain": [
       "ID       batter       \n",
       "501206   PC Valthaty      120\n",
       "501243   V Sehwag         119\n",
       "1254061  SV Samson        119\n",
       "1136620  SR Watson        117\n",
       "336018   ST Jayasuriya    114\n",
       "Name: batsman_run, dtype: int64"
      ]
     },
     "execution_count": 37,
     "metadata": {},
     "output_type": "execute_result"
    }
   ],
   "source": [
    "# Code Here 1\n",
    "\n",
    "balls = pd.read_csv(\"ipl_deliveries.csv\")\n",
    "\n",
    "df = balls[balls.innings == 2]\n",
    "df.groupby([\"ID\", \"batter\"]).sum().sort_values(by=\"batsman_run\", ascending=False)[\"batsman_run\"].head()\n"
   ]
  },
  {
   "cell_type": "code",
   "execution_count": 39,
   "metadata": {},
   "outputs": [
    {
     "data": {
      "text/html": [
       "<div>\n",
       "<style scoped>\n",
       "    .dataframe tbody tr th:only-of-type {\n",
       "        vertical-align: middle;\n",
       "    }\n",
       "\n",
       "    .dataframe tbody tr th {\n",
       "        vertical-align: top;\n",
       "    }\n",
       "\n",
       "    .dataframe thead th {\n",
       "        text-align: right;\n",
       "    }\n",
       "</style>\n",
       "<table border=\"1\" class=\"dataframe\">\n",
       "  <thead>\n",
       "    <tr style=\"text-align: right;\">\n",
       "      <th></th>\n",
       "      <th>batter</th>\n",
       "      <th>batsman_run</th>\n",
       "      <th>ballnumber</th>\n",
       "      <th>strike_rate</th>\n",
       "    </tr>\n",
       "  </thead>\n",
       "  <tbody>\n",
       "    <tr>\n",
       "      <th>0</th>\n",
       "      <td>PJ Cummins</td>\n",
       "      <td>222</td>\n",
       "      <td>114</td>\n",
       "      <td>194.736842</td>\n",
       "    </tr>\n",
       "    <tr>\n",
       "      <th>1</th>\n",
       "      <td>AD Russell</td>\n",
       "      <td>986</td>\n",
       "      <td>570</td>\n",
       "      <td>172.982456</td>\n",
       "    </tr>\n",
       "    <tr>\n",
       "      <th>2</th>\n",
       "      <td>LS Livingstone</td>\n",
       "      <td>182</td>\n",
       "      <td>107</td>\n",
       "      <td>170.093458</td>\n",
       "    </tr>\n",
       "    <tr>\n",
       "      <th>3</th>\n",
       "      <td>SP Narine</td>\n",
       "      <td>599</td>\n",
       "      <td>356</td>\n",
       "      <td>168.258427</td>\n",
       "    </tr>\n",
       "    <tr>\n",
       "      <th>4</th>\n",
       "      <td>SO Hetmyer</td>\n",
       "      <td>330</td>\n",
       "      <td>200</td>\n",
       "      <td>165.000000</td>\n",
       "    </tr>\n",
       "  </tbody>\n",
       "</table>\n",
       "</div>"
      ],
      "text/plain": [
       "           batter  batsman_run  ballnumber  strike_rate\n",
       "0      PJ Cummins          222         114   194.736842\n",
       "1      AD Russell          986         570   172.982456\n",
       "2  LS Livingstone          182         107   170.093458\n",
       "3       SP Narine          599         356   168.258427\n",
       "4      SO Hetmyer          330         200   165.000000"
      ]
     },
     "execution_count": 39,
     "metadata": {},
     "output_type": "execute_result"
    }
   ],
   "source": [
    "# Code Here 2\n",
    "\n",
    "temp_df = df[-(df.extra_type == \"wides\")]\n",
    "temp_df = temp_df.groupby(\"batter\").agg(\n",
    "    {\n",
    "        \"batsman_run\" : 'sum',\n",
    "        \"ballnumber\" : 'count'\n",
    "    }\n",
    ")\n",
    "\n",
    "temp_df[\"strike_rate\"] = temp_df[\"batsman_run\"] / temp_df['ballnumber'] * 100\n",
    "\n",
    "temp_df[temp_df['ballnumber'] >= 100].sort_values('strike_rate', ascending=False).reset_index().head()"
   ]
  },
  {
   "cell_type": "markdown",
   "metadata": {
    "id": "Wr443WT0O2Qw"
   },
   "source": [
    "### `Q-6` Most Successful bowler against any batsman. Find that pair of bowler and batsman.\n",
    "> Most Successful in terms of dissmissal. A bowler who have dissmissed any batsman most no of times. If any two pairs have same no of dissmisal, consider runs conceded by bowler to that batsman. Those who have concede lesser runs is more successful."
   ]
  },
  {
   "cell_type": "code",
   "execution_count": 42,
   "metadata": {
    "id": "oG1P4PT8O4u4"
   },
   "outputs": [
    {
     "data": {
      "text/html": [
       "<div>\n",
       "<style scoped>\n",
       "    .dataframe tbody tr th:only-of-type {\n",
       "        vertical-align: middle;\n",
       "    }\n",
       "\n",
       "    .dataframe tbody tr th {\n",
       "        vertical-align: top;\n",
       "    }\n",
       "\n",
       "    .dataframe thead th {\n",
       "        text-align: right;\n",
       "    }\n",
       "</style>\n",
       "<table border=\"1\" class=\"dataframe\">\n",
       "  <thead>\n",
       "    <tr style=\"text-align: right;\">\n",
       "      <th></th>\n",
       "      <th></th>\n",
       "      <th>IsBatterOut</th>\n",
       "      <th>batsman_run</th>\n",
       "    </tr>\n",
       "    <tr>\n",
       "      <th>bowler</th>\n",
       "      <th>batter</th>\n",
       "      <th></th>\n",
       "      <th></th>\n",
       "    </tr>\n",
       "  </thead>\n",
       "  <tbody>\n",
       "    <tr>\n",
       "      <th>Z Khan</th>\n",
       "      <th>MS Dhoni</th>\n",
       "      <td>7</td>\n",
       "      <td>74</td>\n",
       "    </tr>\n",
       "    <tr>\n",
       "      <th>Sandeep Sharma</th>\n",
       "      <th>V Kohli</th>\n",
       "      <td>7</td>\n",
       "      <td>78</td>\n",
       "    </tr>\n",
       "    <tr>\n",
       "      <th>A Mishra</th>\n",
       "      <th>RG Sharma</th>\n",
       "      <td>7</td>\n",
       "      <td>87</td>\n",
       "    </tr>\n",
       "    <tr>\n",
       "      <th>R Ashwin</th>\n",
       "      <th>RV Uthappa</th>\n",
       "      <td>7</td>\n",
       "      <td>123</td>\n",
       "    </tr>\n",
       "    <tr>\n",
       "      <th>SP Narine</th>\n",
       "      <th>RG Sharma</th>\n",
       "      <td>7</td>\n",
       "      <td>137</td>\n",
       "    </tr>\n",
       "  </tbody>\n",
       "</table>\n",
       "</div>"
      ],
      "text/plain": [
       "                           IsBatterOut  batsman_run\n",
       "bowler         batter                              \n",
       "Z Khan         MS Dhoni              7           74\n",
       "Sandeep Sharma V Kohli               7           78\n",
       "A Mishra       RG Sharma             7           87\n",
       "R Ashwin       RV Uthappa            7          123\n",
       "SP Narine      RG Sharma             7          137"
      ]
     },
     "execution_count": 42,
     "metadata": {},
     "output_type": "execute_result"
    }
   ],
   "source": [
    "# Code Here\n",
    "\n",
    "balls[\"IsBatterOut\"] = balls.batter == balls.player_out\n",
    "balls.groupby([\"bowler\", \"batter\"]).agg({\n",
    "    \"IsBatterOut\" : \"sum\",\n",
    "    \"batsman_run\" : 'sum'\n",
    "}).sort_values(by=[\"IsBatterOut\", \"batsman_run\"], ascending=[False, True]).head()"
   ]
  },
  {
   "cell_type": "markdown",
   "metadata": {
    "id": "7BP2EDkNO6KM"
   },
   "source": [
    "### `Q-7`: Most successful batting pair in IPL. Batting pair who have scored most runs playing together.\n"
   ]
  },
  {
   "cell_type": "code",
   "execution_count": 43,
   "metadata": {
    "id": "lRlbTuarO80s"
   },
   "outputs": [
    {
     "data": {
      "text/plain": [
       "batter-pair\n",
       "AB de Villiers-V Kohli    3134\n",
       "CH Gayle-V Kohli          2802\n",
       "DA Warner-S Dhawan        2357\n",
       "G Gambhir-RV Uthappa      1906\n",
       "KL Rahul-MA Agarwal       1731\n",
       "Name: total_run, dtype: int64"
      ]
     },
     "execution_count": 43,
     "metadata": {},
     "output_type": "execute_result"
    }
   ],
   "source": [
    "# Code Here\n",
    "\n",
    "def func(x):\n",
    "    return '-'.join(list(np.sort(x.values)))\n",
    "\n",
    "balls[\"batter-pair\"] = balls[[\"batter\", \"non-striker\"]].apply(func, axis=1)\n",
    "\n",
    "balls.groupby('batter-pair')['total_run'].sum().sort_values(ascending = False).head()"
   ]
  },
  {
   "cell_type": "markdown",
   "metadata": {
    "id": "gVJ2CnAxO-b0"
   },
   "source": [
    "### `Q-8:` Make a dataframe for all batting pairs played together.\n",
    "```\n",
    "Batsman1 Batsman2 Runs Avg StrikeRate\n",
    "```\n",
    "\n",
    "> Just to ease this question you can count wide-balls for strike rate."
   ]
  },
  {
   "cell_type": "code",
   "execution_count": 49,
   "metadata": {
    "id": "S0bgMx_dPA9Y"
   },
   "outputs": [
    {
     "data": {
      "text/html": [
       "<div>\n",
       "<style scoped>\n",
       "    .dataframe tbody tr th:only-of-type {\n",
       "        vertical-align: middle;\n",
       "    }\n",
       "\n",
       "    .dataframe tbody tr th {\n",
       "        vertical-align: top;\n",
       "    }\n",
       "\n",
       "    .dataframe thead th {\n",
       "        text-align: right;\n",
       "    }\n",
       "</style>\n",
       "<table border=\"1\" class=\"dataframe\">\n",
       "  <thead>\n",
       "    <tr style=\"text-align: right;\">\n",
       "      <th></th>\n",
       "      <th>Batsman 1</th>\n",
       "      <th>Batsman 2</th>\n",
       "      <th>Runs</th>\n",
       "      <th>Avg</th>\n",
       "      <th>StrikeRate</th>\n",
       "    </tr>\n",
       "  </thead>\n",
       "  <tbody>\n",
       "    <tr>\n",
       "      <th>302</th>\n",
       "      <td>AB de Villiers</td>\n",
       "      <td>V Kohli</td>\n",
       "      <td>3134</td>\n",
       "      <td>44.140845</td>\n",
       "      <td>152.209811</td>\n",
       "    </tr>\n",
       "    <tr>\n",
       "      <th>1251</th>\n",
       "      <td>CH Gayle</td>\n",
       "      <td>V Kohli</td>\n",
       "      <td>2802</td>\n",
       "      <td>52.867925</td>\n",
       "      <td>142.017233</td>\n",
       "    </tr>\n",
       "    <tr>\n",
       "      <th>1508</th>\n",
       "      <td>DA Warner</td>\n",
       "      <td>S Dhawan</td>\n",
       "      <td>2357</td>\n",
       "      <td>48.102041</td>\n",
       "      <td>136.637681</td>\n",
       "    </tr>\n",
       "    <tr>\n",
       "      <th>1954</th>\n",
       "      <td>G Gambhir</td>\n",
       "      <td>RV Uthappa</td>\n",
       "      <td>1906</td>\n",
       "      <td>39.708333</td>\n",
       "      <td>133.754386</td>\n",
       "    </tr>\n",
       "    <tr>\n",
       "      <th>2803</th>\n",
       "      <td>KL Rahul</td>\n",
       "      <td>MA Agarwal</td>\n",
       "      <td>1731</td>\n",
       "      <td>52.454545</td>\n",
       "      <td>142.939719</td>\n",
       "    </tr>\n",
       "    <tr>\n",
       "      <th>...</th>\n",
       "      <td>...</td>\n",
       "      <td>...</td>\n",
       "      <td>...</td>\n",
       "      <td>...</td>\n",
       "      <td>...</td>\n",
       "    </tr>\n",
       "    <tr>\n",
       "      <th>34</th>\n",
       "      <td>A Choudhary</td>\n",
       "      <td>S Badree</td>\n",
       "      <td>0</td>\n",
       "      <td>0.000000</td>\n",
       "      <td>0.000000</td>\n",
       "    </tr>\n",
       "    <tr>\n",
       "      <th>4215</th>\n",
       "      <td>T Stubbs</td>\n",
       "      <td>Tilak Varma</td>\n",
       "      <td>0</td>\n",
       "      <td>0.000000</td>\n",
       "      <td>0.000000</td>\n",
       "    </tr>\n",
       "    <tr>\n",
       "      <th>64</th>\n",
       "      <td>A Mishra</td>\n",
       "      <td>CL White</td>\n",
       "      <td>0</td>\n",
       "      <td>0.000000</td>\n",
       "      <td>0.000000</td>\n",
       "    </tr>\n",
       "    <tr>\n",
       "      <th>3114</th>\n",
       "      <td>M Muralitharan</td>\n",
       "      <td>MS Gony</td>\n",
       "      <td>0</td>\n",
       "      <td>0.000000</td>\n",
       "      <td>0.000000</td>\n",
       "    </tr>\n",
       "    <tr>\n",
       "      <th>3107</th>\n",
       "      <td>M Morkel</td>\n",
       "      <td>S Nadeem</td>\n",
       "      <td>0</td>\n",
       "      <td>0.000000</td>\n",
       "      <td>0.000000</td>\n",
       "    </tr>\n",
       "  </tbody>\n",
       "</table>\n",
       "<p>4259 rows × 5 columns</p>\n",
       "</div>"
      ],
      "text/plain": [
       "           Batsman 1    Batsman 2  Runs        Avg  StrikeRate\n",
       "302   AB de Villiers      V Kohli  3134  44.140845  152.209811\n",
       "1251        CH Gayle      V Kohli  2802  52.867925  142.017233\n",
       "1508       DA Warner     S Dhawan  2357  48.102041  136.637681\n",
       "1954       G Gambhir   RV Uthappa  1906  39.708333  133.754386\n",
       "2803        KL Rahul   MA Agarwal  1731  52.454545  142.939719\n",
       "...              ...          ...   ...        ...         ...\n",
       "34       A Choudhary     S Badree     0   0.000000    0.000000\n",
       "4215        T Stubbs  Tilak Varma     0   0.000000    0.000000\n",
       "64          A Mishra     CL White     0   0.000000    0.000000\n",
       "3114  M Muralitharan      MS Gony     0   0.000000    0.000000\n",
       "3107        M Morkel     S Nadeem     0   0.000000    0.000000\n",
       "\n",
       "[4259 rows x 5 columns]"
      ]
     },
     "execution_count": 49,
     "metadata": {},
     "output_type": "execute_result"
    }
   ],
   "source": [
    "# Code Here\n",
    "\n",
    "temp_df = balls.groupby(\"batter-pair\").agg({\n",
    "    'total_run' : 'sum',\n",
    "    'ballnumber' : 'count',\n",
    "    'isWicketDelivery': 'sum'\n",
    "}).reset_index()\n",
    "\n",
    "temp_df['Batsman 1'] = temp_df['batter-pair'].apply(lambda x: x.split('-')[0])\n",
    "temp_df['Batsman 2'] = temp_df['batter-pair'].apply(lambda x: x.split('-')[1])\n",
    "\n",
    "temp_df.rename(columns= {'total_run' : 'Runs'}, inplace=True)\n",
    "temp_df['StrikeRate'] = temp_df[\"Runs\"] / temp_df[\"ballnumber\"] * 100\n",
    "\n",
    "temp_df['Avg'] = temp_df['Runs'] / temp_df[\"isWicketDelivery\"]\n",
    "\n",
    "temp_df.sort_values('Runs', ascending=False, inplace=True)\n",
    "temp_df[['Batsman 1', 'Batsman 2', 'Runs', 'Avg', 'StrikeRate']]"
   ]
  }
 ],
 "metadata": {
  "colab": {
   "provenance": []
  },
  "kernelspec": {
   "display_name": "Python 3",
   "name": "python3"
  },
  "language_info": {
   "codemirror_mode": {
    "name": "ipython",
    "version": 3
   },
   "file_extension": ".py",
   "mimetype": "text/x-python",
   "name": "python",
   "nbconvert_exporter": "python",
   "pygments_lexer": "ipython3",
   "version": "3.11.9"
  }
 },
 "nbformat": 4,
 "nbformat_minor": 0
}
